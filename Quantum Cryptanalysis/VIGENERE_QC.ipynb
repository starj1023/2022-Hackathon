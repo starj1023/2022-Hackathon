{
 "cells": [
  {
   "cell_type": "code",
   "execution_count": 1,
   "metadata": {},
   "outputs": [],
   "source": [
    "import numpy as np\n",
    "import matplotlib.pyplot as plt\n",
    "\n",
    "import torch\n",
    "from torch.autograd import Function\n",
    "from torchvision import datasets, transforms\n",
    "import torch.optim as optim\n",
    "import torch.nn as nn\n",
    "import torch.nn.functional as F\n",
    "\n",
    "import qiskit\n",
    "from qiskit import transpile, assemble\n",
    "from qiskit.visualization import *"
   ]
  },
  {
   "cell_type": "code",
   "execution_count": 2,
   "metadata": {},
   "outputs": [],
   "source": [
    "class QuantumCircuit:\n",
    "    \"\"\" \n",
    "    This class provides a simple interface for interaction \n",
    "    with the quantum circuit \n",
    "    \"\"\"\n",
    "    \n",
    "    def __init__(self, n_qubits, backend, shots):\n",
    "        # --- Circuit definition ---\n",
    "        self._circuit = qiskit.QuantumCircuit(n_qubits)\n",
    "        \n",
    "        all_qubits = [i for i in range(n_qubits)]\n",
    "        self.theta = qiskit.circuit.Parameter('theta')\n",
    "        \n",
    "        self._circuit.h(all_qubits)\n",
    "        self._circuit.barrier()\n",
    "        self._circuit.ry(self.theta, all_qubits)\n",
    "        \n",
    "        self._circuit.measure_all()\n",
    "        # ---------------------------\n",
    "\n",
    "        self.backend = backend\n",
    "        self.shots = shots\n",
    "    \n",
    "    def run(self, thetas):\n",
    "        \n",
    "        #print(type(thetas))\n",
    "        t_qc = transpile(self._circuit,\n",
    "                         self.backend)\n",
    "        qobj = assemble(t_qc,\n",
    "                        shots=self.shots,\n",
    "                        parameter_binds = [{self.theta: theta} for theta in thetas])  \n",
    "        job = self.backend.run(qobj)\n",
    "        result = job.result().get_counts()\n",
    "        \n",
    "        #print(result)\n",
    "        # result type is result, so we have to convert to dictionary.. \n",
    "        \n",
    "        counts = np.array(list(result.values()))\n",
    "        states = np.array(list(result.keys())).astype(float)\n",
    "        \n",
    "        # Compute probabilities for each state\n",
    "        probabilities = counts / self.shots\n",
    "        # Get state expectation\n",
    "        expectation = np.sum(states * probabilities)\n",
    "        \n",
    "        return np.array([expectation])"
   ]
  },
  {
   "cell_type": "code",
   "execution_count": 5,
   "metadata": {},
   "outputs": [],
   "source": [
    "class HybridFunction(Function):\n",
    "    \"\"\" Hybrid quantum - classical function definition \"\"\"\n",
    "    \n",
    "    @staticmethod\n",
    "    def forward(ctx, input, quantum_circuit, shift):\n",
    "        \"\"\" Forward pass computation \"\"\"\n",
    "        ctx.shift = shift\n",
    "        ctx.quantum_circuit = quantum_circuit\n",
    "\n",
    "        expectation_z = ctx.quantum_circuit.run(input[0].tolist())  \n",
    "        result = torch.tensor(np.asarray([expectation_z]))\n",
    "        ctx.save_for_backward(input, result)\n",
    "\n",
    "        return result\n",
    "        \n",
    "    @staticmethod\n",
    "    def backward(ctx, grad_output):\n",
    "        \"\"\" Backward pass computation \"\"\"\n",
    "        input, expectation_z = ctx.saved_tensors\n",
    "        input_list = np.array(input.tolist())\n",
    "        \n",
    "        shift_right = input_list + np.ones(input_list.shape) * ctx.shift\n",
    "        shift_left = input_list - np.ones(input_list.shape) * ctx.shift\n",
    "        \n",
    "        gradients = []\n",
    "        for i in range(len(input_list)):\n",
    "            expectation_right = ctx.quantum_circuit.run(shift_right[i])\n",
    "            expectation_left  = ctx.quantum_circuit.run(shift_left[i])\n",
    "            \n",
    "            gradient = torch.tensor([expectation_right]) - torch.tensor([expectation_left])\n",
    "            gradients.append(gradient)\n",
    "        gradients = np.array([gradients]).T\n",
    "        return torch.tensor([gradients]).float() * grad_output.float(), None, None\n",
    "\n",
    "class Hybrid(nn.Module):\n",
    "    \"\"\" Hybrid quantum - classical layer definition \"\"\"\n",
    "    \n",
    "    def __init__(self, backend, shots, shift):\n",
    "        super(Hybrid, self).__init__()\n",
    "        self.quantum_circuit = QuantumCircuit(1, backend, shots)  # 출력이왜안되지\n",
    "        self.shift = shift\n",
    "        \n",
    "    def forward(self, input):\n",
    "        return HybridFunction.apply(input, self.quantum_circuit, self.shift)"
   ]
  },
  {
   "cell_type": "code",
   "execution_count": 43,
   "metadata": {},
   "outputs": [],
   "source": [
    "class CSVDataset(torch.utils.data.Dataset):\n",
    "    \"\"\" Diabetes dataset.\"\"\"\n",
    "\n",
    "    # Initialize your data, download, etc.\n",
    "    def __init__(self):\n",
    "        #xy = np.loadtxt('/Users/kb/Desktop/train_set/vigenere_8_train_250.csv', delimiter=',', dtype=np.float32)\n",
    "        xy = np.loadtxt('/Users/kb/Desktop/train_set_150/vigenere_8_train_150.csv', delimiter=',', dtype=np.float32)\n",
    "        self.len = xy.shape[0]\n",
    "        self.x_data = torch.from_numpy(xy[:, 1:17])\n",
    "        self.y_data = torch.from_numpy(xy[:, 0])\n",
    "        \n",
    "    def __getitem__(self, index):\n",
    "        return self.x_data[index], self.y_data[index]\n",
    "\n",
    "    def __len__(self):\n",
    "        return self.len\n",
    "\n",
    "\n",
    "dataset = CSVDataset()\n",
    "train_loader = torch.utils.data.DataLoader(dataset=dataset,\n",
    "                          batch_size=1,\n",
    "                          shuffle=True)"
   ]
  },
  {
   "cell_type": "code",
   "execution_count": 44,
   "metadata": {},
   "outputs": [],
   "source": [
    "class Net(nn.Module):\n",
    "    def __init__(self):\n",
    "        super(Net, self).__init__()\n",
    "        self.input = nn.Linear(16, 64)\n",
    "        self.dropout = nn.Dropout2d()\n",
    "        self.fc1 = nn.Linear(64, 32)\n",
    "        self.fc2 = nn.Linear(32, 16)\n",
    "        self.fc3 = nn.Linear(16, 1)\n",
    "        self.hybrid = Hybrid(qiskit.Aer.get_backend('aer_simulator'), 100, np.pi / 2)\n",
    "\n",
    "    def forward(self, x):\n",
    "        x = F.relu(self.input(x))\n",
    "        x = self.dropout(x)\n",
    "        x = F.relu(self.fc1(x))\n",
    "        x = F.relu(self.fc2(x))\n",
    "        x = self.fc3(x)\n",
    "        x = self.hybrid(x)\n",
    "        #print(x)\n",
    "        return torch.cat((x, 1 - x), -1)  #torch.cat((x, 1 - x), -1)\n"
   ]
  },
  {
   "cell_type": "code",
   "execution_count": 45,
   "metadata": {},
   "outputs": [
    {
     "name": "stderr",
     "output_type": "stream",
     "text": [
      "/Users/kb/anaconda3/lib/python3.7/site-packages/ipykernel_launcher.py:32: FutureWarning: The input object of type 'Tensor' is an array-like implementing one of the corresponding protocols (`__array__`, `__array_interface__` or `__array_struct__`); but not a sequence (or 0-D). In the future, this object will be coerced as if it was first converted using `np.array(obj)`. To retain the old behaviour, you have to either modify the type 'Tensor', or assign to an empty array created with `np.empty(correct_shape, dtype=object)`.\n"
     ]
    },
    {
     "name": "stdout",
     "output_type": "stream",
     "text": [
      "Training [5%]\tLoss: 0.6965\n",
      "Training [10%]\tLoss: 0.6886\n",
      "Training [15%]\tLoss: 0.6705\n",
      "Training [20%]\tLoss: 0.6557\n",
      "Training [25%]\tLoss: 0.6463\n",
      "Training [30%]\tLoss: 0.6301\n",
      "Training [35%]\tLoss: 0.6127\n",
      "Training [40%]\tLoss: 0.5960\n",
      "Training [45%]\tLoss: 0.5564\n",
      "Training [50%]\tLoss: 0.5587\n",
      "Training [55%]\tLoss: 0.5863\n",
      "Training [60%]\tLoss: 0.5330\n",
      "Training [65%]\tLoss: 0.5139\n",
      "Training [70%]\tLoss: 0.4920\n",
      "Training [75%]\tLoss: 0.4811\n",
      "Training [80%]\tLoss: 0.4918\n",
      "Training [85%]\tLoss: 0.4962\n",
      "Training [90%]\tLoss: 0.4817\n",
      "Training [95%]\tLoss: 0.4759\n",
      "Training [100%]\tLoss: 0.4573\n"
     ]
    }
   ],
   "source": [
    "model = Net()\n",
    "optimizer = optim.Adam(model.parameters(), lr=0.001)\n",
    "loss_func = nn.CrossEntropyLoss()\n",
    "#loss_func = nn.NLLLoss()\n",
    "\n",
    "\n",
    "epochs = 20\n",
    "loss_list = []\n",
    "model.train()\n",
    "for epoch in range(epochs):\n",
    "    total_loss = []\n",
    "    for batch_idx, (data, target) in enumerate(train_loader):\n",
    "        optimizer.zero_grad()\n",
    "        # Forward pass\n",
    "        output = model(data)\n",
    "        # Calculating loss\n",
    "        target = target.long()\n",
    "        loss = loss_func(output, target)\n",
    "        # Backward pass\n",
    "        loss.backward()\n",
    "        # Optimize the weights\n",
    "        optimizer.step()\n",
    "        \n",
    "        total_loss.append(loss.item())\n",
    "    loss_list.append(sum(total_loss)/len(total_loss))\n",
    "    print('Training [{:.0f}%]\\tLoss: {:.4f}'.format(\n",
    "        100. * (epoch + 1) / epochs, loss_list[-1]))"
   ]
  },
  {
   "cell_type": "code",
   "execution_count": 30,
   "metadata": {},
   "outputs": [
    {
     "data": {
      "text/plain": [
       "Text(0, 0.5, 'Neg Log Likelihood Loss')"
      ]
     },
     "execution_count": 30,
     "metadata": {},
     "output_type": "execute_result"
    },
    {
     "data": {
      "image/png": "[encoded data removed]",
      "text/plain": [
       "<Figure size 432x288 with 1 Axes>"
      ]
     },
     "metadata": {
      "needs_background": "light"
     },
     "output_type": "display_data"
    }
   ],
   "source": [
    "plt.plot(loss_list)\n",
    "plt.title('Hybrid NN Training Convergence')\n",
    "plt.xlabel('Training Iterations')\n",
    "plt.ylabel('Neg Log Likelihood Loss')"
   ]
  },
  {
   "cell_type": "code",
   "execution_count": 46,
   "metadata": {},
   "outputs": [],
   "source": [
    "class CSVDataset(torch.utils.data.Dataset):\n",
    "    \"\"\" Diabetes dataset.\"\"\"\n",
    "\n",
    "    # Initialize your data, download, etc.\n",
    "    def __init__(self):\n",
    "        xy = np.loadtxt('/Users/kb/Desktop/test_set/vigenere_8_test_50.csv',\n",
    "                        delimiter=',', dtype=np.float32)\n",
    "        self.len = xy.shape[0]\n",
    "        self.x_data = torch.from_numpy(xy[:, 1:17])\n",
    "        self.y_data = torch.from_numpy(xy[:, 0])\n",
    "        #self.y_data = self.y_data.reshape(-1,1)\n",
    "        #self.x_data = self.x_data.reshape(500,1,4)  # 차원 맞추려고\n",
    "\n",
    "    def __getitem__(self, index):\n",
    "        return self.x_data[index], self.y_data[index]\n",
    "\n",
    "    def __len__(self):\n",
    "        return self.len\n",
    "\n",
    "\n",
    "dataset = CSVDataset()\n",
    "test_loader = torch.utils.data.DataLoader(dataset=dataset,\n",
    "                          batch_size=1,\n",
    "                          shuffle=True)"
   ]
  },
  {
   "cell_type": "code",
   "execution_count": 33,
   "metadata": {},
   "outputs": [
    {
     "name": "stdout",
     "output_type": "stream",
     "text": [
      "tensor([[0.9900]], dtype=torch.float64)\n",
      "tensor([[0.]], dtype=torch.float64)\n",
      "tensor([[1.]], dtype=torch.float64)\n",
      "tensor([[0.3900]], dtype=torch.float64)\n",
      "tensor([[0.0100]], dtype=torch.float64)\n",
      "tensor([[1.]], dtype=torch.float64)\n",
      "tensor([[1.]], dtype=torch.float64)\n",
      "tensor([[0.]], dtype=torch.float64)\n",
      "tensor([[0.9900]], dtype=torch.float64)\n",
      "tensor([[0.0100]], dtype=torch.float64)\n",
      "tensor([[0.0200]], dtype=torch.float64)\n",
      "tensor([[1.]], dtype=torch.float64)\n",
      "tensor([[0.0300]], dtype=torch.float64)\n",
      "tensor([[0.2000]], dtype=torch.float64)\n",
      "tensor([[0.9700]], dtype=torch.float64)\n",
      "tensor([[1.]], dtype=torch.float64)\n",
      "tensor([[0.0100]], dtype=torch.float64)\n",
      "tensor([[0.]], dtype=torch.float64)\n",
      "tensor([[0.]], dtype=torch.float64)\n",
      "tensor([[1.]], dtype=torch.float64)\n",
      "tensor([[0.]], dtype=torch.float64)\n",
      "tensor([[1.]], dtype=torch.float64)\n",
      "tensor([[0.]], dtype=torch.float64)\n",
      "tensor([[0.]], dtype=torch.float64)\n",
      "tensor([[0.]], dtype=torch.float64)\n",
      "tensor([[1.]], dtype=torch.float64)\n",
      "tensor([[0.]], dtype=torch.float64)\n",
      "tensor([[0.]], dtype=torch.float64)\n",
      "tensor([[1.]], dtype=torch.float64)\n",
      "tensor([[1.]], dtype=torch.float64)\n",
      "tensor([[1.]], dtype=torch.float64)\n",
      "tensor([[1.]], dtype=torch.float64)\n",
      "tensor([[0.7300]], dtype=torch.float64)\n",
      "tensor([[0.3800]], dtype=torch.float64)\n",
      "tensor([[0.9900]], dtype=torch.float64)\n",
      "tensor([[0.9600]], dtype=torch.float64)\n",
      "tensor([[0.3000]], dtype=torch.float64)\n",
      "tensor([[0.0700]], dtype=torch.float64)\n",
      "tensor([[1.]], dtype=torch.float64)\n",
      "tensor([[0.9800]], dtype=torch.float64)\n",
      "tensor([[1.]], dtype=torch.float64)\n",
      "tensor([[0.]], dtype=torch.float64)\n",
      "tensor([[1.]], dtype=torch.float64)\n",
      "tensor([[0.2700]], dtype=torch.float64)\n",
      "tensor([[0.9600]], dtype=torch.float64)\n",
      "tensor([[1.]], dtype=torch.float64)\n",
      "tensor([[0.]], dtype=torch.float64)\n",
      "tensor([[0.9700]], dtype=torch.float64)\n",
      "tensor([[1.]], dtype=torch.float64)\n",
      "tensor([[1.]], dtype=torch.float64)\n",
      "Performance on test data:\n",
      "\tLoss: 0.3657\n",
      "\tAccuracy: 92.0%\n"
     ]
    }
   ],
   "source": [
    "model.eval()\n",
    "with torch.no_grad():\n",
    "    \n",
    "    correct = 0\n",
    "    for batch_idx, (data, target) in enumerate(test_loader):\n",
    "        output = model(data)\n",
    "        \n",
    "        pred = output.argmax(dim=1, keepdim=True) \n",
    "        correct += pred.eq(target.view_as(pred)).sum().item()\n",
    "        \n",
    "        target = target.long()\n",
    "        loss = loss_func(output, target)\n",
    "        total_loss.append(loss.item())\n",
    "        \n",
    "    print('Performance on test data:\\n\\tLoss: {:.4f}\\n\\tAccuracy: {:.1f}%'.format(\n",
    "        sum(total_loss) / len(total_loss),\n",
    "        correct / len(test_loader) * 100)\n",
    "        )"
   ]
  },
  {
   "cell_type": "code",
   "execution_count": null,
   "metadata": {},
   "outputs": [],
   "source": []
  }
 ],
 "metadata": {
  "kernelspec": {
   "display_name": "Python 3",
   "language": "python",
   "name": "python3"
  },
  "language_info": {
   "codemirror_mode": {
    "name": "ipython",
    "version": 3
   },
   "file_extension": ".py",
   "mimetype": "text/x-python",
   "name": "python",
   "nbconvert_exporter": "python",
   "pygments_lexer": "ipython3",
   "version": "3.7.3"
  },
  "widgets": {
   "application/vnd.jupyter.widget-state+json": {
    "state": {
     "0799fb05d3604e468766606aa6350958": {
      "model_module": "@jupyter-widgets/controls",
      "model_module_version": "1.5.0",
      "model_name": "HTMLModel",
      "state": {
       "layout": "IPY_MODEL_14ac01943cea4649b46eee8aee588ae2",
       "style": "IPY_MODEL_5c3c5292dd384b71864493d1fd3b374b",
       "value": "<p style='font-family: IBM Plex Sans, Arial, Helvetica, sans-serif; font-size: 20px; font-weight: medium;'>Circuit Properties</p>"
      }
     },
     "14ac01943cea4649b46eee8aee588ae2": {
      "model_module": "@jupyter-widgets/base",
      "model_module_version": "1.2.0",
      "model_name": "LayoutModel",
      "state": {
       "margin": "0px 0px 10px 0px"
      }
     },
     "24b864343bbf47b18582e8095f8e2b55": {
      "model_module": "@jupyter-widgets/controls",
      "model_module_version": "1.5.0",
      "model_name": "HTMLModel",
      "state": {
       "layout": "IPY_MODEL_90185f6bccbe42fcb413f501ba961c8e",
       "style": "IPY_MODEL_6f10daae71374324a83fe290ffbc867e",
       "value": "<h5>Queue</h5>"
      }
     },
     "2dbb01f4f2764edbbb3e132969437bc4": {
      "model_module": "@jupyter-widgets/base",
      "model_module_version": "1.2.0",
      "model_name": "LayoutModel",
      "state": {
       "grid_template_areas": "\n                                       \". . . . right \"\n                                        ",
       "grid_template_columns": "20% 20% 20% 20% 20%",
       "width": "100%"
      }
     },
     "2fd72447ecdb47c1b3d8596faed4a9f8": {
      "model_module": "@jupyter-widgets/controls",
      "model_module_version": "1.5.0",
      "model_name": "GridBoxModel",
      "state": {
       "children": [
        "IPY_MODEL_51499550d78f4914b7359f213504aadc"
       ],
       "layout": "IPY_MODEL_2dbb01f4f2764edbbb3e132969437bc4"
      }
     },
     "380eda29bca04c7d9df15f69a0b28e40": {
      "model_module": "@jupyter-widgets/base",
      "model_module_version": "1.2.0",
      "model_name": "LayoutModel",
      "state": {
       "width": "95px"
      }
     },
     "4e0d3e09f05d457d98491efbc92fb4c9": {
      "model_module": "@jupyter-widgets/controls",
      "model_module_version": "1.5.0",
      "model_name": "DescriptionStyleModel",
      "state": {
       "description_width": ""
      }
     },
     "4e8bcf4f73544076a02da65458d499f7": {
      "model_module": "@jupyter-widgets/base",
      "model_module_version": "1.2.0",
      "model_name": "LayoutModel",
      "state": {
       "width": "145px"
      }
     },
     "51499550d78f4914b7359f213504aadc": {
      "model_module": "@jupyter-widgets/controls",
      "model_module_version": "1.5.0",
      "model_name": "ButtonModel",
      "state": {
       "button_style": "primary",
       "description": "Clear",
       "layout": "IPY_MODEL_5c4a87dc122b446aa18a49cd494e694e",
       "style": "IPY_MODEL_8a1cb42df52f492a86b0d656421728d8"
      }
     },
     "5c3c5292dd384b71864493d1fd3b374b": {
      "model_module": "@jupyter-widgets/controls",
      "model_module_version": "1.5.0",
      "model_name": "DescriptionStyleModel",
      "state": {
       "description_width": ""
      }
     },
     "5c4a87dc122b446aa18a49cd494e694e": {
      "model_module": "@jupyter-widgets/base",
      "model_module_version": "1.2.0",
      "model_name": "LayoutModel",
      "state": {
       "grid_area": "right",
       "padding": "0px 0px 0px 0px",
       "width": "70px"
      }
     },
     "6f10daae71374324a83fe290ffbc867e": {
      "model_module": "@jupyter-widgets/controls",
      "model_module_version": "1.5.0",
      "model_name": "DescriptionStyleModel",
      "state": {
       "description_width": ""
      }
     },
     "717291a955324eb5a140a9403928c8f7": {
      "model_module": "@jupyter-widgets/base",
      "model_module_version": "1.2.0",
      "model_name": "LayoutModel",
      "state": {
       "width": "190px"
      }
     },
     "88ce311f2fbb4dee967150fedc9076a7": {
      "model_module": "@jupyter-widgets/controls",
      "model_module_version": "1.5.0",
      "model_name": "HBoxModel",
      "state": {
       "children": [
        "IPY_MODEL_9fe08218cbaa48d6ab24c206f156d573",
        "IPY_MODEL_de98b86b9fbb467cafff2142a24224e6",
        "IPY_MODEL_e3067535579c40bb9e868314d91f5d95",
        "IPY_MODEL_24b864343bbf47b18582e8095f8e2b55",
        "IPY_MODEL_ae5b38c0e06f4595a1d4165a462e0313"
       ],
       "layout": "IPY_MODEL_c10d6d91fdaa470ba1d183dac7dd60a0"
      }
     },
     "8a1cb42df52f492a86b0d656421728d8": {
      "model_module": "@jupyter-widgets/controls",
      "model_module_version": "1.5.0",
      "model_name": "ButtonStyleModel",
      "state": {}
     },
     "90185f6bccbe42fcb413f501ba961c8e": {
      "model_module": "@jupyter-widgets/base",
      "model_module_version": "1.2.0",
      "model_name": "LayoutModel",
      "state": {
       "width": "70px"
      }
     },
     "9fe08218cbaa48d6ab24c206f156d573": {
      "model_module": "@jupyter-widgets/controls",
      "model_module_version": "1.5.0",
      "model_name": "HTMLModel",
      "state": {
       "layout": "IPY_MODEL_717291a955324eb5a140a9403928c8f7",
       "style": "IPY_MODEL_e7e2f39a2a7f4bcca3d9083cecaf7460",
       "value": "<h5>Job ID</h5>"
      }
     },
     "a4ad7aec55b8462d96539fdc5a6b563c": {
      "model_module": "@jupyter-widgets/base",
      "model_module_version": "1.2.0",
      "model_name": "LayoutModel",
      "state": {}
     },
     "ae5b38c0e06f4595a1d4165a462e0313": {
      "model_module": "@jupyter-widgets/controls",
      "model_module_version": "1.5.0",
      "model_name": "HTMLModel",
      "state": {
       "layout": "IPY_MODEL_a4ad7aec55b8462d96539fdc5a6b563c",
       "style": "IPY_MODEL_fc906bdf6d1e49b0b0835bdff78a7f9a",
       "value": "<h5>Message</h5>"
      }
     },
     "c10d6d91fdaa470ba1d183dac7dd60a0": {
      "model_module": "@jupyter-widgets/base",
      "model_module_version": "1.2.0",
      "model_name": "LayoutModel",
      "state": {
       "margin": "0px 0px 0px 37px",
       "width": "600px"
      }
     },
     "de34442bb8074cb4a09fc4903cd75763": {
      "model_module": "@jupyter-widgets/controls",
      "model_module_version": "1.5.0",
      "model_name": "DescriptionStyleModel",
      "state": {
       "description_width": ""
      }
     },
     "de98b86b9fbb467cafff2142a24224e6": {
      "model_module": "@jupyter-widgets/controls",
      "model_module_version": "1.5.0",
      "model_name": "HTMLModel",
      "state": {
       "layout": "IPY_MODEL_4e8bcf4f73544076a02da65458d499f7",
       "style": "IPY_MODEL_de34442bb8074cb4a09fc4903cd75763",
       "value": "<h5>Backend</h5>"
      }
     },
     "e3067535579c40bb9e868314d91f5d95": {
      "model_module": "@jupyter-widgets/controls",
      "model_module_version": "1.5.0",
      "model_name": "HTMLModel",
      "state": {
       "layout": "IPY_MODEL_380eda29bca04c7d9df15f69a0b28e40",
       "style": "IPY_MODEL_4e0d3e09f05d457d98491efbc92fb4c9",
       "value": "<h5>Status</h5>"
      }
     },
     "e7e2f39a2a7f4bcca3d9083cecaf7460": {
      "model_module": "@jupyter-widgets/controls",
      "model_module_version": "1.5.0",
      "model_name": "DescriptionStyleModel",
      "state": {
       "description_width": ""
      }
     },
     "fc906bdf6d1e49b0b0835bdff78a7f9a": {
      "model_module": "@jupyter-widgets/controls",
      "model_module_version": "1.5.0",
      "model_name": "DescriptionStyleModel",
      "state": {
       "description_width": ""
      }
     }
    },
    "version_major": 2,
    "version_minor": 0
   }
  }
 },
 "nbformat": 4,
 "nbformat_minor": 5
}
