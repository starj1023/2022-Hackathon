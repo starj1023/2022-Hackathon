{
 "cells": [
  {
   "cell_type": "code",
   "execution_count": null,
   "id": "22fe7957-69b9-4749-b5d2-f274aca495d5",
   "metadata": {},
   "outputs": [],
   "source": [
    "import matplotlib.pyplot as plt\n",
    "import numpy as np\n",
    "\n",
    "from qiskit import Aer, QuantumRegister, QuantumCircuit\n",
    "from qiskit.circuit import ParameterVector\n",
    "from qiskit.circuit.library import TwoLocal\n",
    "from qiskit.quantum_info import Statevector\n",
    "\n",
    "from qiskit.utils import QuantumInstance\n",
    "from qiskit.algorithms import IterativeAmplitudeEstimation, EstimationProblem\n",
    "from qiskit_finance.applications.estimation import EuropeanCallPricing\n",
    "from qiskit_finance.circuit.library import NormalDistribution"
   ]
  },
  {
   "cell_type": "code",
   "execution_count": null,
   "id": "f342e1a4-cce3-4445-b2f3-4d5b225f12a4",
   "metadata": {},
   "outputs": [],
   "source": [
    "import matplotlib.pyplot as plt\n",
    "import numpy as np\n",
    "\n",
    "from qiskit import BasicAer\n",
    "from qiskit.circuit.library import ZZFeatureMap\n",
    "from qiskit.aqua import QuantumInstance, aqua_globals\n",
    "from qiskit.aqua.algorithms import QSVM\n",
    "from qiskit.aqua.utils import split_dataset_to_data_and_labels, map_label_to_class_name\n",
    "import pandas as pd\n",
    "\n",
    "\n",
    "from matplotlib import pyplot as plt\n",
    "import numpy as np\n",
    "from qiskit import Aer, execute\n",
    "from qiskit.tools import job_monitor\n",
    "\n",
    "from qiskit.circuit.library import ZZFeatureMap, PauliFeatureMap, ZFeatureMap\n",
    "\n",
    "from sklearn.model_selection import train_test_split\n",
    "\n",
    "from qiskit.aqua.utils import split_dataset_to_data_and_labels, map_label_to_class_name\n",
    "\n",
    "seed = 10599\n",
    "aqua_globals.random_seed = seed"
   ]
  },
  {
   "cell_type": "code",
   "execution_count": null,
   "id": "302b30be-4cd9-4f96-933d-247692a0a16f",
   "metadata": {},
   "outputs": [],
   "source": [
    "datas = pd.read_csv('./caesar_int4.csv',header=None).values\n",
    "target = np.zeros((len(datas),1))\n",
    "data = np.zeros((len(datas),8))\n",
    "\n",
    "data = datas[:,1:9]\n",
    "target = datas[:,0]\n",
    "\n",
    "class_labels = [\"0\",\"1\"]\n",
    "\n",
    "pd.DataFrame(data)"
   ]
  },
  {
   "cell_type": "code",
   "execution_count": null,
   "id": "d0377e00-059c-48cb-83fb-5b16a7de689b",
   "metadata": {},
   "outputs": [],
   "source": [
    "from sklearn.preprocessing import StandardScaler, MinMaxScaler\n",
    "from sklearn.decomposition import PCA\n",
    "\n",
    "sample_train, sample_test, label_train, label_test = train_test_split(data, target, random_state=10)\n",
    "\n",
    "training_dataset_size = 40\n",
    "testing_dataset_size = 20\n",
    "\n",
    "# Setting dataset size to number of training_dataset_size\n",
    "training_input = {key: (sample_train[label_train == k, :])[:training_dataset_size] for k, key in enumerate(class_labels)}\n",
    "test_input = {key: (sample_test[label_test == k, :])[:testing_dataset_size] for k, key in enumerate(class_labels)}\n",
    "\n",
    "datapoints, class_to_label = split_dataset_to_data_and_labels(test_input)    #testinput으로 변경해서 해보기\n",
    "print(class_to_label)"
   ]
  },
  {
   "cell_type": "code",
   "execution_count": null,
   "id": "27b732c9-48be-4ea4-909b-11984eea6279",
   "metadata": {},
   "outputs": [],
   "source": [
    "feature_map = ZZFeatureMap(feature_dimension=8, reps=2, entanglement='linear')\n",
    "qsvm = QSVM(feature_map, training_input, test_input, datapoints[0])\n",
    "\n",
    "backend = BasicAer.get_backend('qasm_simulator')\n",
    "quantum_instance = QuantumInstance(backend, shots=1, seed_simulator=seed, seed_transpiler=seed)\n",
    "\n",
    "result = qsvm.run(quantum_instance)\n",
    "\n",
    "print(f'Testing success ratio: {result[\"testing_accuracy\"]}')\n",
    "print()\n",
    "print('Prediction from datapoints set:')\n",
    "print(f'  ground truth: {map_label_to_class_name(datapoints[1], qsvm.label_to_class)}')\n",
    "print(f'  prediction:   {result[\"predicted_classes\"]}')\n",
    "predicted_labels = result[\"predicted_labels\"]\n",
    "print(f'  success rate: {100*np.count_nonzero(predicted_labels == datapoints[1])/len(predicted_labels)}%')"
   ]
  },
  {
   "cell_type": "code",
   "execution_count": null,
   "id": "934624a5-9320-4f52-9224-f6acaa09a339",
   "metadata": {},
   "outputs": [],
   "source": [
    "##### 8bit "
   ]
  },
  {
   "cell_type": "code",
   "execution_count": null,
   "id": "6440426e-faf5-4bfc-bbdc-dc20a7fe4f43",
   "metadata": {},
   "outputs": [],
   "source": [
    "datas = pd.read_csv('./caesar_int8_train.csv',header=None).values\n",
    "target = np.zeros((len(datas),1))\n",
    "data = np.zeros((len(datas),16))\n",
    "\n",
    "data = datas[:,1:]\n",
    "target = datas[:,0]\n",
    "\n",
    "class_labels = [\"0\",\"1\"]\n",
    "\n",
    "pd.DataFrame(data)"
   ]
  },
  {
   "cell_type": "code",
   "execution_count": null,
   "id": "09593c5e-069c-48cb-8e0d-65e8840b9ad2",
   "metadata": {},
   "outputs": [],
   "source": [
    "sample_train, sample_test, label_train, label_test = train_test_split(data, target, random_state=10)\n",
    "\n",
    "training_dataset_size = 100\n",
    "testing_dataset_size = 20\n",
    "\n",
    "\n",
    "# Setting dataset size to number of training_dataset_size\n",
    "training_input = {key: (sample_train[label_train == k, :])[:training_dataset_size] for k, key in enumerate(class_labels)}\n",
    "test_input = {key: (sample_test[label_test == k, :])[:testing_dataset_size] for k, key in enumerate(class_labels)}\n",
    "\n",
    "datapoints, class_to_label = split_dataset_to_data_and_labels(training_input)\n",
    "print(class_to_label)"
   ]
  },
  {
   "cell_type": "code",
   "execution_count": null,
   "id": "0b0d63e8-d235-49f0-968f-48dd945d2787",
   "metadata": {},
   "outputs": [],
   "source": [
    "feature_map = ZZFeatureMap(feature_dimension=16, reps=2, entanglement='linear')\n",
    "qsvm = QSVM(feature_map, training_input, test_input, datapoints[0])\n",
    "\n",
    "backend = BasicAer.get_backend('qasm_simulator')\n",
    "quantum_instance = QuantumInstance(backend, shots=1, seed_simulator=seed, seed_transpiler=seed)\n",
    "\n",
    "result = qsvm.run(quantum_instance)\n",
    "\n",
    "print(f'Testing success ratio: {result[\"testing_accuracy\"]}')\n",
    "print()\n",
    "print('Prediction from datapoints set:')\n",
    "print(f'  ground truth: {map_label_to_class_name(datapoints[1], qsvm.label_to_class)}')\n",
    "print(f'  prediction:   {result[\"predicted_classes\"]}')\n",
    "predicted_labels = result[\"predicted_labels\"]\n",
    "print(f'  success rate: {100*np.count_nonzero(predicted_labels == datapoints[1])/len(predicted_labels)}%')"
   ]
  }
 ],
 "metadata": {
  "kernelspec": {
   "display_name": "Qiskit v0.34.1 (ipykernel)",
   "language": "python",
   "name": "python3"
  },
  "language_info": {
   "codemirror_mode": {
    "name": "ipython",
    "version": 3
   },
   "file_extension": ".py",
   "mimetype": "text/x-python",
   "name": "python",
   "nbconvert_exporter": "python",
   "pygments_lexer": "ipython3",
   "version": "3.8.12"
  },
  "widgets": {
   "application/vnd.jupyter.widget-state+json": {
    "state": {},
    "version_major": 2,
    "version_minor": 0
   }
  }
 },
 "nbformat": 4,
 "nbformat_minor": 5
}
