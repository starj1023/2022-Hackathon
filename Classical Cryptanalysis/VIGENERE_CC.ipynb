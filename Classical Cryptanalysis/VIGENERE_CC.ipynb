{
  "cells": [
    {
      "cell_type": "code",
      "execution_count": 1,
      "id": "706ea2f8",
      "metadata": {
        "id": "706ea2f8"
      },
      "outputs": [],
      "source": [
        "import numpy as np\n",
        "import matplotlib.pyplot as plt\n",
        "\n",
        "import torch\n",
        "from torch.autograd import Function\n",
        "from torchvision import datasets, transforms\n",
        "import torch.optim as optim\n",
        "import torch.nn as nn\n",
        "import torch.nn.functional as F\n",
        "\n",
        "import time\n"
      ]
    },
    {
      "cell_type": "code",
      "source": [
        "from google.colab import drive\n",
        "drive.mount('/content/drive')"
      ],
      "metadata": {
        "colab": {
          "base_uri": "https://localhost:8080/"
        },
        "id": "DVgk6-kWthDA",
        "outputId": "44f7a99c-c2c3-4058-e7ea-8c7bc7ee7283"
      },
      "id": "DVgk6-kWthDA",
      "execution_count": 2,
      "outputs": [
        {
          "output_type": "stream",
          "name": "stdout",
          "text": [
            "Mounted at /content/drive\n"
          ]
        }
      ]
    },
    {
      "cell_type": "code",
      "execution_count": 3,
      "id": "5e2f386d",
      "metadata": {
        "id": "5e2f386d"
      },
      "outputs": [],
      "source": [
        "train_range = 150\n",
        "test_range = 50"
      ]
    },
    {
      "cell_type": "code",
      "execution_count": 4,
      "id": "1452355d",
      "metadata": {
        "scrolled": true,
        "colab": {
          "base_uri": "https://localhost:8080/"
        },
        "id": "1452355d",
        "outputId": "ed88d4bb-9231-43b6-e034-e7603fd9c28a"
      },
      "outputs": [
        {
          "output_type": "stream",
          "name": "stdout",
          "text": [
            "(250, 17)\n",
            "torch.Size([150, 16])\n"
          ]
        }
      ],
      "source": [
        "class CSVDataset(torch.utils.data.Dataset):\n",
        "    \"\"\" Diabetes dataset.\"\"\"\n",
        "    \n",
        "    # Initialize your data, download, etc.\n",
        "    def __init__(self):\n",
        "        xy = np.loadtxt('/content/drive/MyDrive/Colab Notebooks/Quantum hackerton/vigenere_8_train_250.csv',\n",
        "                        delimiter=',', dtype=np.float32)\n",
        "        self.len = train_range\n",
        "        print(xy.shape)\n",
        "        self.x_data = torch.from_numpy(xy[:train_range, 1:17])\n",
        "        self.y_data = torch.from_numpy(xy[:train_range, 0])\n",
        "        print((self.x_data.shape))\n",
        "        #print(self.y_data)\n",
        "        \n",
        "    def __getitem__(self, index):\n",
        "        return self.x_data[index], self.y_data[index]\n",
        "\n",
        "    def __len__(self):\n",
        "        return self.len\n",
        "\n",
        "\n",
        "dataset = CSVDataset()\n",
        "train_loader = torch.utils.data.DataLoader(dataset=dataset,\n",
        "                          batch_size=8,\n",
        "                          shuffle=False,\n",
        "                            drop_last = True)\n"
      ]
    },
    {
      "cell_type": "code",
      "execution_count": 5,
      "id": "d76200ce",
      "metadata": {
        "id": "d76200ce"
      },
      "outputs": [],
      "source": [
        "class Net(nn.Module):\n",
        "    def __init__(self):\n",
        "        super(Net, self).__init__()\n",
        "        self.input = nn.Linear(16, 64)\n",
        "        self.dropout = nn.Dropout2d(p=0.2)\n",
        "        self.fc1 = nn.Linear(64, 32)\n",
        "        self.fc2 = nn.Linear(32, 1)\n",
        "\n",
        "    def forward(self, x):\n",
        "        x = F.relu(self.input(x))\n",
        "        x = self.dropout(x)\n",
        "        x = F.relu(self.fc1(x))\n",
        "        x = self.fc2(x)\n",
        "        \n",
        "        x = torch.sigmoid(x)\n",
        "        \n",
        "        return x  \n"
      ]
    },
    {
      "cell_type": "code",
      "execution_count": 10,
      "id": "be1ee03f",
      "metadata": {
        "scrolled": false,
        "id": "be1ee03f",
        "outputId": "9447b601-5190-477a-e3f7-eadfdaa64bb6",
        "colab": {
          "base_uri": "https://localhost:8080/"
        }
      },
      "outputs": [
        {
          "output_type": "stream",
          "name": "stdout",
          "text": [
            "Training [5%]\tLoss: 0.6916\n",
            "Training [10%]\tLoss: 0.6855\n",
            "Training [15%]\tLoss: 0.6821\n",
            "Training [20%]\tLoss: 0.6743\n",
            "Training [25%]\tLoss: 0.6618\n",
            "Training [30%]\tLoss: 0.6530\n",
            "Training [35%]\tLoss: 0.6355\n",
            "Training [40%]\tLoss: 0.6161\n",
            "Training [45%]\tLoss: 0.5989\n",
            "Training [50%]\tLoss: 0.5707\n",
            "Training [55%]\tLoss: 0.5399\n",
            "Training [60%]\tLoss: 0.5177\n",
            "Training [65%]\tLoss: 0.4854\n",
            "Training [70%]\tLoss: 0.4664\n",
            "Training [75%]\tLoss: 0.4497\n",
            "Training [80%]\tLoss: 0.4000\n",
            "Training [85%]\tLoss: 0.3774\n",
            "Training [90%]\tLoss: 0.3376\n",
            "Training [95%]\tLoss: 0.3061\n",
            "Training [100%]\tLoss: 0.2658\n",
            "runtime: 0.33sec\n"
          ]
        }
      ],
      "source": [
        "model = Net()\n",
        "optimizer = optim.Adam(model.parameters(), lr=0.001)\n",
        "loss_func = nn.BCELoss()\n",
        "\n",
        "epochs = 20\n",
        "loss_list = []\n",
        "model.train()\n",
        "ts = time.time()\n",
        "\n",
        "for epoch in range(epochs):\n",
        "\n",
        "    total_loss = []\n",
        "    for batch_idx, x in enumerate(train_loader):\n",
        "        data, target = x\n",
        "        target = target.unsqueeze(1)\n",
        "\n",
        "        optimizer.zero_grad()\n",
        "\n",
        "        output = model(data)\n",
        "\n",
        "        loss = loss_func(output, target)\n",
        "\n",
        "        loss.backward()\n",
        "\n",
        "        optimizer.step()\n",
        "        \n",
        "        total_loss.append(loss.item())\n",
        "\n",
        "    loss_list.append(sum(total_loss)/len(total_loss))\n",
        "    print('Training [{:.0f}%]\\tLoss: {:.4f}'.format(100. * (epoch + 1) / epochs, loss_list[-1]))\n",
        "\n",
        "te = time.time()\n",
        "print('runtime: {:2.2f}sec'.format(te-ts))"
      ]
    },
    {
      "cell_type": "code",
      "execution_count": 11,
      "id": "f9ccc541",
      "metadata": {
        "id": "f9ccc541",
        "outputId": "f9aa51c0-ccac-4765-a4db-c309b361c600",
        "colab": {
          "base_uri": "https://localhost:8080/",
          "height": 313
        }
      },
      "outputs": [
        {
          "output_type": "execute_result",
          "data": {
            "text/plain": [
              "Text(0, 0.5, 'Neg Log Likelihood Loss')"
            ]
          },
          "metadata": {},
          "execution_count": 11
        },
        {
          "output_type": "display_data",
          "data": {
            "image/png": "[encoded data removed]",
            "text/plain": [
              "<Figure size 432x288 with 1 Axes>"
            ]
          },
          "metadata": {
            "needs_background": "light"
          }
        }
      ],
      "source": [
        "plt.plot(loss_list)\n",
        "plt.title('Hybrid NN Training Convergence')\n",
        "plt.xlabel('Training Iterations')\n",
        "plt.ylabel('Neg Log Likelihood Loss')"
      ]
    },
    {
      "cell_type": "code",
      "execution_count": 12,
      "id": "74a4ac8b",
      "metadata": {
        "id": "74a4ac8b"
      },
      "outputs": [],
      "source": [
        "class CSVDataset(torch.utils.data.Dataset):\n",
        "    \"\"\" Diabetes dataset.\"\"\"\n",
        "\n",
        "    # Initialize your data, download, etc.\n",
        "    def __init__(self):\n",
        "        xy = np.loadtxt('/content/drive/MyDrive/Colab Notebooks/Quantum hackerton/vigenere_8_test_50.csv',\n",
        "                        delimiter=',', dtype=np.float32)\n",
        "        self.len = test_range\n",
        "        self.x_data = torch.from_numpy(xy[:test_range, 1:17])\n",
        "        self.y_data = torch.from_numpy(xy[:test_range, 0])\n",
        "\n",
        "    def __getitem__(self, index):\n",
        "        return self.x_data[index], self.y_data[index]\n",
        "\n",
        "    def __len__(self):\n",
        "        return self.len\n",
        "\n",
        "\n",
        "dataset = CSVDataset()\n",
        "test_loader = torch.utils.data.DataLoader(dataset=dataset,\n",
        "                          batch_size=8,\n",
        "                          shuffle=False,\n",
        "                            drop_last=True)"
      ]
    },
    {
      "cell_type": "code",
      "execution_count": 13,
      "id": "91cf65aa",
      "metadata": {
        "scrolled": true,
        "id": "91cf65aa",
        "outputId": "d6faf20e-08b0-409c-f332-ed4356d55bfb",
        "colab": {
          "base_uri": "https://localhost:8080/"
        }
      },
      "outputs": [
        {
          "output_type": "stream",
          "name": "stdout",
          "text": [
            "Performance on test data:\n",
            "\tLoss: 5.4077\n",
            "\tAccuracy: 76.0%\n"
          ]
        }
      ],
      "source": [
        "import math\n",
        "model.eval()\n",
        "with torch.no_grad():\n",
        "    \n",
        "    correct = 0\n",
        "\n",
        "    for batch_idx, (data, target) in enumerate(test_loader):\n",
        "        output = model(data)\n",
        "        pred = output\n",
        "        target = target.unsqueeze(1)\n",
        "        for i in range(8):\n",
        "            if (output[i] > 0.5):\n",
        "                pred[i] = math.ceil(output[i])\n",
        "            else:\n",
        "                pred[i] = math.floor(output[i])\n",
        "        correct += pred.eq(target.view_as(pred)).sum().item()\n",
        "        loss = loss_func(output, target)\n",
        "        total_loss.append(loss.item())\n",
        "    print('Performance on test data:\\n\\tLoss: {:.4f}\\n\\tAccuracy: {:.1f}%'.format(\n",
        "        sum(total_loss) / len(total_loss),\n",
        "        correct / len(dataset) * 100)\n",
        "        )"
      ]
    },
    {
      "cell_type": "code",
      "source": [
        ""
      ],
      "metadata": {
        "id": "eWfMJkjjV75V"
      },
      "id": "eWfMJkjjV75V",
      "execution_count": null,
      "outputs": []
    }
  ],
  "metadata": {
    "kernelspec": {
      "display_name": "Python 3 (ipykernel)",
      "language": "python",
      "name": "python3"
    },
    "language_info": {
      "codemirror_mode": {
        "name": "ipython",
        "version": 3
      },
      "file_extension": ".py",
      "mimetype": "text/x-python",
      "name": "python",
      "nbconvert_exporter": "python",
      "pygments_lexer": "ipython3",
      "version": "3.9.6"
    },
    "colab": {
      "name": "caesar_16_key_classical_vigenere.ipynb",
      "provenance": [],
      "machine_shape": "hm",
      "collapsed_sections": []
    },
    "accelerator": "GPU"
  },
  "nbformat": 4,
  "nbformat_minor": 5
}