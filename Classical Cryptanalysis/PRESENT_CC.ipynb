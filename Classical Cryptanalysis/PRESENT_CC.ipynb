{
  "cells": [
    {
      "cell_type": "code",
      "execution_count": 181,
      "id": "706ea2f8",
      "metadata": {
        "id": "706ea2f8"
      },
      "outputs": [],
      "source": [
        "import numpy as np\n",
        "import matplotlib.pyplot as plt\n",
        "\n",
        "import torch\n",
        "from torch.autograd import Function\n",
        "from torchvision import datasets, transforms\n",
        "import torch.optim as optim\n",
        "import torch.nn as nn\n",
        "import torch.nn.functional as F"
      ]
    },
    {
      "cell_type": "code",
      "execution_count": 182,
      "id": "5e2f386d",
      "metadata": {
        "id": "5e2f386d"
      },
      "outputs": [],
      "source": [
        "train_range = 150\n",
        "test_range = 50"
      ]
    },
    {
      "cell_type": "code",
      "source": [
        "from google.colab import drive\n",
        "drive.mount('/content/gdrive')"
      ],
      "metadata": {
        "colab": {
          "base_uri": "https://localhost:8080/"
        },
        "id": "FXHLctGbwPuG",
        "outputId": "6ed80d74-14fb-4d47-cdd9-e3b4b197451c"
      },
      "id": "FXHLctGbwPuG",
      "execution_count": 183,
      "outputs": [
        {
          "output_type": "stream",
          "name": "stdout",
          "text": [
            "Drive already mounted at /content/gdrive; to attempt to forcibly remount, call drive.mount(\"/content/gdrive\", force_remount=True).\n"
          ]
        }
      ]
    },
    {
      "cell_type": "code",
      "execution_count": 184,
      "id": "1452355d",
      "metadata": {
        "scrolled": true,
        "colab": {
          "base_uri": "https://localhost:8080/"
        },
        "id": "1452355d",
        "outputId": "40ce06b4-1c41-4fe2-cbdd-2bc6ba5bf415"
      },
      "outputs": [
        {
          "output_type": "stream",
          "name": "stdout",
          "text": [
            "(250, 17)\n",
            "torch.Size([250, 16])\n"
          ]
        }
      ],
      "source": [
        "class CSVDataset(torch.utils.data.Dataset):\n",
        "    \"\"\" Diabetes dataset.\"\"\"\n",
        "\n",
        "    # Initialize your data, download, etc.\n",
        "    def __init__(self):\n",
        "        xy = np.loadtxt('/content/gdrive/MyDrive/present_train_250.csv',\n",
        "                        delimiter=',', dtype=np.float32)\n",
        "        self.len = train_range\n",
        "        print(xy.shape)\n",
        "        self.x_data = torch.from_numpy(xy[:train_range, 1:17])\n",
        "        self.y_data = torch.from_numpy(xy[:train_range, 0])\n",
        "        print((self.x_data.shape))\n",
        "        #print(self.y_data)\n",
        "        \n",
        "    def __getitem__(self, index):\n",
        "        return self.x_data[index], self.y_data[index]\n",
        "\n",
        "    def __len__(self):\n",
        "        return self.len\n",
        "\n",
        "\n",
        "dataset = CSVDataset()\n",
        "train_loader = torch.utils.data.DataLoader(dataset=dataset,\n",
        "                          batch_size=8,\n",
        "                          shuffle=False,\n",
        "                            drop_last = True)"
      ]
    },
    {
      "cell_type": "code",
      "execution_count": 185,
      "id": "d76200ce",
      "metadata": {
        "id": "d76200ce"
      },
      "outputs": [],
      "source": [
        "class Net(nn.Module):\n",
        "    def __init__(self):\n",
        "        super(Net, self).__init__()\n",
        "        #self.conv1 = nn.Conv2d(1, 6, kernel_size=1)\n",
        "        #self.conv2 = nn.Conv2d(6, 16, kernel_size=1)\n",
        "        self.input = nn.Linear(16, 64)\n",
        "        self.dropout = nn.Dropout2d(p=0.2)\n",
        "        self.fc1 = nn.Linear(64, 32)\n",
        "        self.fc2 = nn.Linear(32, 1)\n",
        "        #self.hybrid = Hybrid(qiskit.Aer.get_backend('aer_simulator'), 100, np.pi / 2)\n",
        "\n",
        "    def forward(self, x):\n",
        "        x = F.relu(self.input(x))\n",
        "        #x = F.max_pool2d(x, 2)\n",
        "        #x = F.relu(self.conv2(x))\n",
        "        #x = F.max_pool2d(x, 2)\n",
        "        x = self.dropout(x)\n",
        "        #x = x.view(1, -1)\n",
        "        x = F.relu(self.fc1(x))\n",
        "        x = self.fc2(x)\n",
        "        \n",
        "        x = torch.sigmoid(x)\n",
        "        \n",
        "        #print(x)\n",
        "        return x  #torch.cat((x, 1 - x), -1)"
      ]
    },
    {
      "cell_type": "code",
      "source": [
        "import time"
      ],
      "metadata": {
        "id": "ofuYzLe5zyt4"
      },
      "id": "ofuYzLe5zyt4",
      "execution_count": 186,
      "outputs": []
    },
    {
      "cell_type": "code",
      "execution_count": 187,
      "id": "be1ee03f",
      "metadata": {
        "scrolled": false,
        "colab": {
          "base_uri": "https://localhost:8080/"
        },
        "id": "be1ee03f",
        "outputId": "dec9ccbc-eb36-427c-9de6-293b188162c7"
      },
      "outputs": [
        {
          "output_type": "stream",
          "name": "stdout",
          "text": [
            "Training [5%]\tLoss: 0.6956\n",
            "runtime: 0.04sec\n",
            "Training [10%]\tLoss: 0.6920\n",
            "runtime: 0.08sec\n",
            "Training [15%]\tLoss: 0.6863\n",
            "runtime: 0.11sec\n",
            "Training [20%]\tLoss: 0.6819\n",
            "runtime: 0.16sec\n",
            "Training [25%]\tLoss: 0.6735\n",
            "runtime: 0.19sec\n",
            "Training [30%]\tLoss: 0.6620\n",
            "runtime: 0.24sec\n",
            "Training [35%]\tLoss: 0.6496\n",
            "runtime: 0.28sec\n",
            "Training [40%]\tLoss: 0.6400\n",
            "runtime: 0.33sec\n",
            "Training [45%]\tLoss: 0.6237\n",
            "runtime: 0.37sec\n",
            "Training [50%]\tLoss: 0.6096\n",
            "runtime: 0.41sec\n",
            "Training [55%]\tLoss: 0.5932\n",
            "runtime: 0.44sec\n",
            "Training [60%]\tLoss: 0.5776\n",
            "runtime: 0.49sec\n",
            "Training [65%]\tLoss: 0.5678\n",
            "runtime: 0.53sec\n",
            "Training [70%]\tLoss: 0.5541\n",
            "runtime: 0.57sec\n",
            "Training [75%]\tLoss: 0.5585\n",
            "runtime: 0.61sec\n",
            "Training [80%]\tLoss: 0.5318\n",
            "runtime: 0.66sec\n",
            "Training [85%]\tLoss: 0.5208\n",
            "runtime: 0.70sec\n",
            "Training [90%]\tLoss: 0.4979\n",
            "runtime: 0.74sec\n",
            "Training [95%]\tLoss: 0.4934\n",
            "runtime: 0.79sec\n",
            "Training [100%]\tLoss: 0.4598\n",
            "runtime: 0.83sec\n"
          ]
        }
      ],
      "source": [
        "model = Net()\n",
        "optimizer = optim.Adam(model.parameters(), lr=0.001)\n",
        "loss_func = nn.BCELoss()\n",
        "#loss_func = nn.CrossEntropyLoss()\n",
        "#loss_func = nn.NLLLoss()\n",
        "\n",
        "epochs = 20\n",
        "loss_list = []\n",
        "model.train()\n",
        "ts = time.time()\n",
        "\n",
        "for epoch in range(epochs):\n",
        "    total_loss = []\n",
        "    for batch_idx, x in enumerate(train_loader):\n",
        "        data, target = x\n",
        "        target = target.unsqueeze(1)\n",
        "        optimizer.zero_grad()\n",
        "        # Forward pass\n",
        "        output = model(data)\n",
        "        # Calculating loss\n",
        "        #target = target.long()\n",
        "        loss = loss_func(output, target)\n",
        "        # Backward pass\n",
        "        loss.backward()\n",
        "        # Optimize the weights\n",
        "        optimizer.step()\n",
        "        \n",
        "        total_loss.append(loss.item())\n",
        "    \n",
        "    te = time.time()\n",
        "\n",
        "    loss_list.append(sum(total_loss)/len(total_loss))\n",
        "    print('Training [{:.0f}%]\\tLoss: {:.4f}'.format(100. * (epoch + 1) / epochs, loss_list[-1]))\n",
        "    print('runtime: {:2.2f}sec'.format(te-ts))"
      ]
    },
    {
      "cell_type": "code",
      "execution_count": 188,
      "id": "f9ccc541",
      "metadata": {
        "colab": {
          "base_uri": "https://localhost:8080/",
          "height": 313
        },
        "id": "f9ccc541",
        "outputId": "ea92dac6-2b31-489a-9757-0090e60b0b38"
      },
      "outputs": [
        {
          "output_type": "execute_result",
          "data": {
            "text/plain": [
              "Text(0, 0.5, 'Neg Log Likelihood Loss')"
            ]
          },
          "metadata": {},
          "execution_count": 188
        },
        {
          "output_type": "display_data",
          "data": {
            "image/png": "[encoded data removed]",
            "text/plain": [
              "<Figure size 432x288 with 1 Axes>"
            ]
          },
          "metadata": {
            "needs_background": "light"
          }
        }
      ],
      "source": [
        "plt.plot(loss_list)\n",
        "plt.title('Hybrid NN Training Convergence')\n",
        "plt.xlabel('Training Iterations')\n",
        "plt.ylabel('Neg Log Likelihood Loss')"
      ]
    },
    {
      "cell_type": "code",
      "execution_count": 189,
      "id": "74a4ac8b",
      "metadata": {
        "id": "74a4ac8b"
      },
      "outputs": [],
      "source": [
        "class CSVDataset(torch.utils.data.Dataset):\n",
        "    \"\"\" Diabetes dataset.\"\"\"\n",
        "\n",
        "    # Initialize your data, download, etc.\n",
        "    def __init__(self):\n",
        "        xy = np.loadtxt('/content/gdrive/MyDrive/present_test_50.csv',\n",
        "                        delimiter=',', dtype=np.float32)\n",
        "        self.len = test_range\n",
        "        self.x_data = torch.from_numpy(xy[:test_range, 1:17])\n",
        "        self.y_data = torch.from_numpy(xy[:test_range, 0])\n",
        "\n",
        "    def __getitem__(self, index):\n",
        "        return self.x_data[index], self.y_data[index]\n",
        "\n",
        "    def __len__(self):\n",
        "        return self.len\n",
        "\n",
        "\n",
        "dataset = CSVDataset()\n",
        "test_loader = torch.utils.data.DataLoader(dataset=dataset,\n",
        "                          batch_size=8,\n",
        "                          shuffle=False,\n",
        "                            drop_last=True)"
      ]
    },
    {
      "cell_type": "code",
      "execution_count": 190,
      "id": "91cf65aa",
      "metadata": {
        "scrolled": true,
        "colab": {
          "base_uri": "https://localhost:8080/"
        },
        "id": "91cf65aa",
        "outputId": "0f648ca0-0e40-48de-c553-a563884f1fdf"
      },
      "outputs": [
        {
          "output_type": "stream",
          "name": "stdout",
          "text": [
            "Performance on test data:\n",
            "\tLoss: 7.4799\n",
            "\tAccuracy: 54.0%\n"
          ]
        }
      ],
      "source": [
        "import math\n",
        "model.eval()\n",
        "with torch.no_grad():\n",
        "    \n",
        "    correct = 0\n",
        "\n",
        "    for batch_idx, (data, target) in enumerate(test_loader):\n",
        "        output = model(data)\n",
        "        pred = output\n",
        "        target = target.unsqueeze(1)\n",
        "        for i in range(8):\n",
        "            if (output[i] > 0.5):\n",
        "                pred[i] = math.ceil(output[i])\n",
        "            else:\n",
        "                pred[i] = math.floor(output[i])\n",
        "        correct += pred.eq(target.view_as(pred)).sum().item()\n",
        "        loss = loss_func(output, target)\n",
        "        total_loss.append(loss.item())\n",
        "    print('Performance on test data:\\n\\tLoss: {:.4f}\\n\\tAccuracy: {:.1f}%'.format(\n",
        "        sum(total_loss) / len(total_loss),\n",
        "        correct / len(dataset) * 100)\n",
        "        )"
      ]
    }
  ],
  "metadata": {
    "kernelspec": {
      "display_name": "Python 3 (ipykernel)",
      "language": "python",
      "name": "python3"
    },
    "language_info": {
      "codemirror_mode": {
        "name": "ipython",
        "version": 3
      },
      "file_extension": ".py",
      "mimetype": "text/x-python",
      "name": "python",
      "nbconvert_exporter": "python",
      "pygments_lexer": "ipython3",
      "version": "3.9.6"
    },
    "colab": {
      "name": "caesar_16_key_classical.ipynb",
      "provenance": [],
      "collapsed_sections": []
    },
    "accelerator": "GPU"
  },
  "nbformat": 4,
  "nbformat_minor": 5
}